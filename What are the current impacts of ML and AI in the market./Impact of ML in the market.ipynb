{
 "cells": [
  {
   "cell_type": "markdown",
   "metadata": {},
   "source": [
    "## Articles to read\n",
    "\n",
    "[Article One](https://towardsdatascience.com/the-impact-of-artificial-intelligence-8615d1d9b7ac)\n",
    "\n",
    "[Article Two](https://www.businessnewsdaily.com/9402-artificial-intelligence-business-trends.html)\n",
    "\n",
    "[Article Three](https://www.forbes.com/sites/lilachbullock/2019/02/25/the-top-6-ways-that-artificial-intelligence-will-affect-your-business-in-the-near-future/#48ae0df31966)\n",
    "\n",
    "[Article Four](https://www.adobe.com/insights/how-will-artificial-intelligence-impact-business.html)\n",
    "\n",
    "[Article Five](https://www.eukhost.com/blog/webhosting/7-benefits-of-artificial-intelligence-for-business/)\n",
    "\n",
    "[Article Six](https://technostacks.com/blog/benefits-of-artificial-intelligence-in-business/)\n",
    "\n",
    "[Article Seven](https://www.leanmethods.com/resources/articles/top-ten-problems-faced-business/)\n",
    "\n",
    "[Article Eight](https://towardsdatascience.com/what-problems-can-we-solve-using-ai-ec7131f8159b)\n",
    "\n",
    "[Article Nine](https://towardsdatascience.com/artificial-intelligence-opportunities-challenges-in-businesses-ede2e96ae935)\n",
    "\n",
    "[Article Ten](https://marutitech.com/problems-solved-machine-learning/)\n",
    "\n",
    "[Article Eleven](https://www.quora.com/What-real-life-problems-will-be-solved-with-Artificial-Intelligence-AI-within-the-next-10-years-i-e-by-2028)"
   ]
  },
  {
   "cell_type": "code",
   "execution_count": null,
   "metadata": {},
   "outputs": [],
   "source": []
  }
 ],
 "metadata": {
  "kernelspec": {
   "display_name": "Python 3",
   "language": "python",
   "name": "python3"
  },
  "language_info": {
   "codemirror_mode": {
    "name": "ipython",
    "version": 3
   },
   "file_extension": ".py",
   "mimetype": "text/x-python",
   "name": "python",
   "nbconvert_exporter": "python",
   "pygments_lexer": "ipython3",
   "version": "3.6.9"
  }
 },
 "nbformat": 4,
 "nbformat_minor": 2
}
