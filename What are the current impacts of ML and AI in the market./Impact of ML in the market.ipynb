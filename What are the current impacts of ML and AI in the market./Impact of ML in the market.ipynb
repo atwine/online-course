{
 "cells": [
  {
   "cell_type": "markdown",
   "metadata": {},
   "source": [
    "# What is the Impact of Machine Learning and Artificial Intelligence in the current market?\n",
    "\n",
    "by `Atwine Mugume Twinamatsiko`\n",
    "\n",
    "<img src='imp7.gif'/>\n",
    "\n",
    "## What you will learn:\n",
    "\n",
    "> In this tutorial we want to look at how Machine learning and Artificial Intelligence has  played a role in our current markets `briefly`. \n",
    "\n",
    "You may be right now using some of these systems but are not a ware of it. It is important to have this knowledge if we are going to take advantage of the current technologies that we  have."
   ]
  },
  {
   "cell_type": "markdown",
   "metadata": {},
   "source": [
    "<div class=\"alert alert-block alert-success\">\n",
    "    <p>\n",
    "    Artificial Intelligence (AI) is becoming an important part of our daily life, in social as well as the business environment. From healthcare to the military, this technology is being introduced in all the sectors to reduce human effort and give an accurate and faster result.\n",
    "    </p>\n",
    "</div>\n",
    "\n",
    "<img src='imp8.jpg'/>"
   ]
  },
  {
   "cell_type": "markdown",
   "metadata": {},
   "source": [
    "### What is the impact?\n",
    "\n",
    "When we talk of `impact` we are looking at the advantages and disadvantages of the current topic at hand.\n",
    "\n",
    "How has AI and Machine Learning helped us make things better and what could be improved (disadvantages)"
   ]
  },
  {
   "cell_type": "markdown",
   "metadata": {},
   "source": [
    "<div class=\"alert alert-block alert-warning\">\n",
    "    <h3>General Impact:</h3>\n",
    "</div>\n",
    "\n",
    "### Daily operations\n",
    "There has been an improvement in our daily lives through the use of intelligent systems.\n",
    "\n",
    "Some of us may not be really a ware but the technology is way closer than you think for example: the keyboard you use on your phone to type and text has been modified to use predictive methods for the texts you send.\n",
    "\n",
    "Ever got stuck in a long traffic queue when heading to work? Traffic navigation systems are now using spatial information to help people predict traffic and make navigation easy.\n",
    "\n",
    "Siri can help you retrieve information because of Artificial intelligence. She is able to hear you as a human would\n",
    "\n",
    "### Fewer Errors\n",
    "We as humans are prone to making so many errors when we do repeated tasks. \n",
    "\n",
    ">`AI helps us in reducing the errors and the chance of reaching accuracy with a greater degree of precision. It is applied in various studies such as exploration of space.`\n",
    "\n",
    "I am sure you have met today banking systems where humans have been removed out of the equations, this has assisted to make transactions smoother and faster.\n",
    "\n",
    "\n",
    "### Automation\n",
    "Repetitive tasks are monotonous in nature can be carried out with the help of machine intelligence. Machines think faster than humans and can be put to multi-tasking. \n",
    "\n",
    "Machine intelligence can be employed to carry out dangerous tasks. Their parameters, unlike humans, can be adjusted. Their speed and time are calculation based parameters only.\n",
    "\n",
    "> AI will automate 16% of American jobs [Forrester](https://go.forrester.com/press-newsroom/robots-ai-will-replace-7-of-us-jobs-by-2025/)\n",
    "\n",
    "### Difficult Exploration\n",
    "There are some tasks that are very difficult for humans to handle. As a result intelligent sytems are being employed to be able to do these tasks for us.\n",
    "\n",
    "For example learning relationships in huge chunks of data in order to make better choices.\n",
    "\n",
    "The era of data driven decisions is evidentl -- with Huge amounts of data in n-dimensions we are able to build models that can help us predict future patterns.\n",
    "\n",
    "> AI technology can increase business productivity by up to 40 percent [Accenture](https://www.accenture.com/in-en/insight-artificial-intelligence-future-growth)\n",
    "\n",
    "\n",
    "\n",
    "### Improved Productivity\n",
    "\n",
    "Unlike humans, machines do not require frequent breaks and refreshments. They are programmed for long hours and can continuously perform without getting bored or distracted or even tired."
   ]
  },
  {
   "cell_type": "markdown",
   "metadata": {},
   "source": [
    "<div class=\"alert alert-info\">\n",
    "\n",
    "</div>"
   ]
  },
  {
   "cell_type": "markdown",
   "metadata": {},
   "source": [
    "<div class=\"alert alert-info\">\n",
    "    <h3>Domain-wise Advantages</h3>\n",
    "</div>\n",
    "\n",
    "### Healthcare\n",
    "The main purpose of healthcare AI applications is to examine relationships between prevention or treatment techniques and patient outcomes. AI programs have been built and implemented to practices such as diagnosis processes, treatment protocol development, drug development, personalized medicine, and patient monitoring and care. Many medical institutions have developed AI algorithms for their departments.\n",
    "\n",
    "<img src='imp2.png'/>\n",
    "\n",
    "\n",
    "### Agriculture\n",
    "In agriculture, new AI developments show advances in gaining yield and to increase the research and development of growing crops. AI now predicts the time it takes for a crop like a vegetable to be ripe and ready for picking thus increasing the efficiency of farming. These advances go on including Crop and Soil Monitoring, Agricultural Robots, and Predictive Analytics. Crop and soil monitoring uses new algorithms and data collected in the field to manage and track the health of crops making it easier and more sustainable for the farmers.\n",
    "\n",
    "<img src='imp3.png'/>\n",
    "\n",
    "### Automative\n",
    "The Air Operations Division (AOD) uses AI for the rule-based expert systems. The AOD has use for artificial intelligence for surrogate operators for combat and training simulators, mission management aids, support systems for tactical decision making, and post-processing of the simulator data into symbolic summaries.\n",
    "\n",
    "<img src='imp4.jpg'/>\n",
    "\n",
    "### Aviation\n",
    "AI-supported Design of Aircraft is used to help designers in the process of creating conceptual designs of aircraft. This program empowers the designers to concentrate more on the design itself and less on the design process.\n",
    "\n",
    "<img src='imp5.jpg'/>\n",
    "\n",
    "### Education\n",
    "One of the more promising innovations is the idea of a personal AI tutor or assistant for each individual student. Because a single teacher can’t work with every student at once, AI tutors would allow for students to get extra, one-on-one help in areas of needed growth. \n",
    "\n",
    "There are many other areas this technology can be used and we are going to go look at some briefly\n",
    "\n",
    "<img src='imp6.jpg'/>"
   ]
  },
  {
   "cell_type": "code",
   "execution_count": 9,
   "metadata": {},
   "outputs": [],
   "source": [
    "from IPython.display import YouTubeVideo\n",
    "\n",
    "def display_yotube_video(url, **kwargs):\n",
    "    \"\"\"\n",
    "    Displays a Youtube video in a Jupyter notebook.\n",
    "    \n",
    "    Args:\n",
    "        url (string): a link to a Youtube video.\n",
    "        **kwargs: further arguments for IPython.display.YouTubeVideo\n",
    "    \n",
    "    Returns:\n",
    "        YouTubeVideo: a video that is displayed in your notebook.\n",
    "    \"\"\"\n",
    "    id_ = url.split(\"=\")[-1]\n",
    "    return YouTubeVideo(id_, **kwargs)"
   ]
  },
  {
   "cell_type": "markdown",
   "metadata": {},
   "source": []
  },
  {
   "cell_type": "code",
   "execution_count": 14,
   "metadata": {},
   "outputs": [
    {
     "data": {
      "image/jpeg": "[encoded data removed]",
      "text/html": [
       "\n",
       "        <iframe\n",
       "            width=\"400\"\n",
       "            height=\"300\"\n",
       "            src=\"https://www.youtube.com/embed/6wxEuIFt7p4\"\n",
       "            frameborder=\"0\"\n",
       "            allowfullscreen\n",
       "        ></iframe>\n",
       "        "
      ],
      "text/plain": [
       "<IPython.lib.display.YouTubeVideo at 0x10a833748>"
      ]
     },
     "execution_count": 14,
     "metadata": {},
     "output_type": "execute_result"
    }
   ],
   "source": [
    "display_yotube_video('https://www.youtube.com/watch?v=6wxEuIFt7p4')"
   ]
  },
  {
   "cell_type": "code",
   "execution_count": null,
   "metadata": {},
   "outputs": [],
   "source": []
  },
  {
   "cell_type": "markdown",
   "metadata": {},
   "source": [
    "<div class=\"alert alert-block alert-danger\">\n",
    "   Refernces:\n",
    "    <p>https://towardsdatascience.com/the-impact-of-artificial-intelligence-8615d1d9b7ac</p>\n",
    "    <p>https://www.eukhost.com/blog/webhosting/7-benefits-of-artificial-intelligence-for-business/</p>\n",
    "    <p>https://towardsdatascience.com/artificial-intelligence-opportunities-challenges-in-businesses-ede2e96ae935</p>\n",
    "   \n",
    "   <p></p>\n",
    "    \n",
    "   End!\n",
    "</div>"
   ]
  }
 ],
 "metadata": {
  "kernelspec": {
   "display_name": "Python 3",
   "language": "python",
   "name": "python3"
  },
  "language_info": {
   "codemirror_mode": {
    "name": "ipython",
    "version": 3
   },
   "file_extension": ".py",
   "mimetype": "text/x-python",
   "name": "python",
   "nbconvert_exporter": "python",
   "pygments_lexer": "ipython3",
   "version": "3.6.9"
  }
 },
 "nbformat": 4,
 "nbformat_minor": 2
}
