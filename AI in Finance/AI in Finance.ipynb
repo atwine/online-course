{
 "cells": [
  {
   "cell_type": "markdown",
   "metadata": {
    "slideshow": {
     "slide_type": "slide"
    }
   },
   "source": [
    "# Artificial Intelligence in Finance\n",
    "\n",
    "by `Atwine Mugume Twinamatsiko`\n",
    "\n",
    "In this short tutorial preview we are going to look at how Artificial Intelligence has impacted some of the financial systems of our current markets.\n",
    "\n",
    "We shall take a look at a few cases on how financial intelligence has been made better as a result of AI and ML\n",
    "\n",
    "<div class=\"alert alert-block alert-success\"/>\n",
    "<img src='fin1.jpg'>"
   ]
  },
  {
   "cell_type": "markdown",
   "metadata": {
    "slideshow": {
     "slide_type": "fragment"
    }
   },
   "source": [
    "<div class=\"alert alert-block alert-success\"/>\n",
    "\n",
    "- Frontrunner financial services firms are achieving companywide revenue growth of 19% directly attributable to their AI initiatives, much greater than the 12% of follower firms achieve.\n",
    "\n",
    "- 70% of all financial services firms participating in the study are using machine learning in production environments today, and 60% are using Natural Language Processing (NLP).\n",
    "\n",
    "- 60% of frontrunner financial services firms are defining AI success by improvements to revenue and 47%, by improving customer experience.\n",
    "\n",
    "- 49% of frontrunners have a comprehensive, detailed, companywide strategy in place for AI adoption, which departments are expected to follow, giving them immediate scale and speed over rival firms.\n",
    "\n",
    "- 45% of AI frontrunner firms are investing over $5M in AI initiatives today, 3X the level of starters or late adopters."
   ]
  },
  {
   "cell_type": "markdown",
   "metadata": {},
   "source": [
    "According to __LUAN HUANBO__ (CEO, COFOUNDER OF 6ESTATES PTE. LTD.)\n",
    "\n",
    "The financial landscape has been rapidly evolving with the rise of financial technology (fintech) companies and startups that are more agile and technologically advanced. This has led `financial services institutions` (FSIs) to revise their business models and evaluate how they can integrate technology into their operations.\n",
    "\n",
    "__Robotic process automation (RPA) is no longer a foreign term in the financial field. Pairing RPA with artificial intelligence (AI) creates `intelligent process automation` (IPA) that works as a catalyst in digital transformation in FSIs.__\n",
    "\n",
    "Like many other industries, the financial field is heavily reliant on documents and legacy systems. Large numbers of transactions that generate documentation happen daily. __With IPA, it is easier to bridge the legacy systems and create a uniform approach to data management.__\n",
    "<div class=\"alert alert-block alert-success\"/>\n",
    "<img src='fin2.png'/>\n",
    "</div>\n",
    "IPA plays key roles in driving process __efficiencies, improving quality and scalability.__ Minimal-value work will be eliminated without a significant overhaul of underlying systems and efficiency will be increased through automated workflows.\n",
    "\n",
    "Automation has the potential to alleviate staff from laborious and repetitive tasks and focus on industry knowledge and expertise to create greater value. `According to McKinsey, many companies across industries implementing IPA have obtained impressive results – 20-35 percent cost efficiencies and 50-60 percent reductions in process time.` Hence, there is a need for FSIs to stay ahead of the game and keep up with the pace of advancing technology.\n",
    "\n",
    "\n",
    "`One of the core technologies powering IPA is machine reading comprehension (MRC), a key natural language processing (NLP) technology that reads and understands text in its true semantic meaning. In the past two years, it has progressed significantly to be comparable to a human’s comprehension capability.`\n",
    "\n",
    "__Why is MRC important?__ Many of the documents back offices deal with are unstructured – they are scanned paper documents (e.g. invoices) where information placement is unpredictable, information is displayed in complex table format and information naming is not standardized. Therefore, traditional rule-based or template-based information extraction is not sufficient. MRC is needed to understand text as well as its context to properly identify relevant information, and in turn, inject cognitive intelligence into process automation.\n",
    "\n"
   ]
  },
  {
   "cell_type": "markdown",
   "metadata": {},
   "source": []
  },
  {
   "cell_type": "markdown",
   "metadata": {},
   "source": [
    "<div class=\"alert alert-block alert-warning\"/>\n",
    "<img src='fin3.png'/>\n",
    "</div>\n",
    "\n",
    "## <u>Ways in which AI has Impacted Finance include:</u>\n",
    "\n",
    "### Risk Assessment:\n",
    "\n",
    "Since the very basis of AI is learning from past data; it is natural that AI should succeed in the Financial Services domain, where bookkeeping and records are second nature to the business. \n",
    "\n",
    "Let’s take the example of credit cards. Today, we use credit score as a means of deciding who is eligible for a credit card and who isn’t. However, grouping people into ‘haves’ and ‘have-nots’ is not always efficient for business. Instead, data about each individual’s loan repayment habits, the number of loans currently active, the number of existing credit cards, etc. can be used to customize the interest rate on a card such that it makes more sense to the financial institution that is offering the card. \n",
    "\n",
    "> Now, take a minute to think about which system has the capability to go through thousands of personal financial records to come up with a solution- a learned machine of course! This is where AI comes in. Since it is data driven and data dependent, scanning through these records also gives AI the ability to make a recommendation of loan and credit offerings which make historical sense.\n",
    "\n",
    "<div class=\"alert alert-info\"/></div>\n",
    "\n",
    "### Fraud Detection And Management:\n",
    "\n",
    "Every business aims to reduce the risk conditions that surround it. This is even true for a financial institution. The loan a bank gives you is basically someone else’s money, which is why you also get paid an interest on deposits and dividends on investments. This is also why banks and financial institutions take fraud very, very seriously. \n",
    "\n",
    "AI is on top when it comes to security and fraud identification. It can use past spending behaviors on different transaction instruments to point out odd behavior, such as using a card from another country just a few hours after it has been used elsewhere, or an attempt to withdraw a sum of money that is unusual for the account in question.\n",
    "\n",
    "**_Another excellent feature of fraud detection using AI is that the system has no qualms about learning. If it raises a red flag for a regular transaction and a human being corrects that, the system can learn from the experience and make even more sophisticated decisions about what can be considered fraud and what cannot._**\n",
    "\n",
    "<div class=\"alert alert-info\"/></div>\n",
    "\n",
    "### Trading:\n",
    "Investment companies have been relying on computers and data scientists to determine future patterns in the market. As a domain, trading and investments depend on the ability to predict the future accurately. \n",
    "\n",
    "Machines are great at this because they can crunch a huge amount of data in a short while. Machines can also be taught to observe patterns in past data and predict how these patterns might repeat in the future. \n",
    "\n",
    "<div class=\"alert alert-info\"/>\n",
    "While anomalies such as the 2008 financial crisis do exist in data, a machine can be taught to study the data to find ‘triggers’ for these anomalies, and plan for them in future forecasting as well.What’s more, depending on individual risk appetite, AI can suggest portfolio solutions to meet each person’s demand. So a person with a high-risk appetite can count on AI for decisions on when to buy, hold and sell stock. One with a lower risk appetite can receive alerts for when the market is expected to fall, and can thus make a decision about whether to stay invested in the market or to move out.</div>\n",
    "\n",
    "\n",
    "### Managing Finance:\n",
    "\n",
    "Managing finances in this well-connected and the materialistic world can be a challenging task for so many of us, as we look further into the future we can see AI helping us to manage our finances. PFM (personal financial management) is one of the recent developments on the AI-based wallet. \n",
    "\n",
    "[Wallet](http://wallet.ai/) started by a San Francisco based startup, uses AI to builds algorithms to help the consumers make smart decisions about their money when they are spending it. \n",
    "\n"
   ]
  },
  {
   "cell_type": "markdown",
   "metadata": {
    "slideshow": {
     "slide_type": "subslide"
    }
   },
   "source": [
    "<div class=\"alert alert-info\"/></div>"
   ]
  },
  {
   "cell_type": "markdown",
   "metadata": {},
   "source": [
    "### AI and Personalized Banking\n",
    "Artificial intelligence truly shines when it comes to exploring new ways to provide additional benefits and comfort to individual users.\n",
    "\n",
    "In the banking sector, AI powers the smart chatbots that provide clients with comprehensive self-help solutions while reducing the call-centers’ workload. Voice-controlled virtual assistants powered by smart tech like Amazon’s Alexa are also gaining traction fast, which is no surprise: boasting a self-education feature, they get smarter every day, so you should expect tremendous improvements here. Both tools can check balances, schedule payments, look up account activity and more.\n",
    "\n",
    "<img src='fin4.jpg'/>"
   ]
  },
  {
   "cell_type": "markdown",
   "metadata": {},
   "source": []
  },
  {
   "cell_type": "markdown",
   "metadata": {},
   "source": [
    "<div class=\"alert alert-block alert-danger\"/>\n",
    "\n",
    "References:\n",
    "\n",
    "- https://www.opentext.com/file_source/OpenText/en_US/PDF/wp-ai-financial-services-next-steps-to-realising-the-potential-en.pdf\n",
    "\n",
    "- https://www2.deloitte.com/us/en/insights/industry/financial-services/artificial-intelligence-ai-financial-services-frontrunners.html\n",
    "\n",
    "- https://www.thejakartapost.com/life/2019/10/17/how-artificial-intelligence-makes-financial-services-institutions-more-efficient.html\n",
    "\n",
    "- https://towardsdatascience.com/the-growing-impact-of-ai-in-financial-services-six-examples-da386c0301b2"
   ]
  },
  {
   "cell_type": "code",
   "execution_count": null,
   "metadata": {},
   "outputs": [],
   "source": []
  }
 ],
 "metadata": {
  "celltoolbar": "Raw Cell Format",
  "kernelspec": {
   "display_name": "Python 3",
   "language": "python",
   "name": "python3"
  },
  "language_info": {
   "codemirror_mode": {
    "name": "ipython",
    "version": 3
   },
   "file_extension": ".py",
   "mimetype": "text/x-python",
   "name": "python",
   "nbconvert_exporter": "python",
   "pygments_lexer": "ipython3",
   "version": "3.6.9"
  }
 },
 "nbformat": 4,
 "nbformat_minor": 2
}
