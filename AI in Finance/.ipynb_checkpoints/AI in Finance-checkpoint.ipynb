{
 "cells": [
  {
   "cell_type": "markdown",
   "metadata": {},
   "source": [
    "# Artificial Intelligence in Finance\n",
    "\n",
    "by `Atwine Mugume Twinamatsiko`\n",
    "\n",
    "In this short tutorial preview we are going to look at how Artificial Intelligence has impacted some of the financial systems of our current markets.\n",
    "\n",
    "We shall take a look at a few cases on how financial intelligence has been made better as a result of AI and ML\n",
    "\n",
    "<img src='fin1.jpg'>"
   ]
  },
  {
   "cell_type": "markdown",
   "metadata": {},
   "source": [
    "<div class=\"alert alert-block alert-success\"/>\n",
    "\n",
    "- Frontrunner financial services firms are achieving companywide revenue growth of 19% directly attributable to their AI initiatives, much greater than the 12% of follower firms achieve.\n",
    "\n",
    "- 70% of all financial services firms participating in the study are using machine learning in production environments today, and 60% are using Natural Language Processing (NLP).\n",
    "\n",
    "- 60% of frontrunner financial services firms are defining AI success by improvements to revenue and 47%, by improving customer experience.\n",
    "\n",
    "- 49% of frontrunners have a comprehensive, detailed, companywide strategy in place for AI adoption, which departments are expected to follow, giving them immediate scale and speed over rival firms.\n",
    "\n",
    "- 45% of AI frontrunner firms are investing over $5M in AI initiatives today, 3X the level of starters or late adopters."
   ]
  },
  {
   "cell_type": "markdown",
   "metadata": {},
   "source": [
    "<div class=\"alert alert-block alert-warning\"/>"
   ]
  },
  {
   "cell_type": "markdown",
   "metadata": {},
   "source": [
    "<div class=\"alert alert-info\"/>"
   ]
  },
  {
   "cell_type": "markdown",
   "metadata": {},
   "source": [
    "<div class=\"alert alert-block alert-danger\"/>"
   ]
  },
  {
   "cell_type": "code",
   "execution_count": null,
   "metadata": {},
   "outputs": [],
   "source": []
  }
 ],
 "metadata": {
  "kernelspec": {
   "display_name": "Python 3",
   "language": "python",
   "name": "python3"
  },
  "language_info": {
   "codemirror_mode": {
    "name": "ipython",
    "version": 3
   },
   "file_extension": ".py",
   "mimetype": "text/x-python",
   "name": "python",
   "nbconvert_exporter": "python",
   "pygments_lexer": "ipython3",
   "version": "3.6.9"
  }
 },
 "nbformat": 4,
 "nbformat_minor": 2
}
