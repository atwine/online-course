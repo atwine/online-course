{
 "cells": [
  {
   "cell_type": "markdown",
   "metadata": {},
   "source": [
    "# Artificial Intelligence in Health\n",
    "\n",
    "by `Atwine Mugume Twinamatsiko`\n",
    "<div class=\"alert alert-block alert-success\"/>\n",
    "<img src='hlt3.png'/>\n",
    "</div>\n",
    "\n",
    "### What is Artificial Intelligence in Healthcare?\n",
    "\n",
    "Machine learning has the potential to provide data-driven clinical decision support (CDS) to physicians and hospital staff paving the way for an increased revenue potential. \n",
    "\n",
    "Machine learning, a subset of AI designed to identify patterns, uses algorithms and data to give automated insights to healthcare providers.\n",
    "\n",
    "Examples of AI in Healthcare and Medicine\n",
    "<div class=\"alert alert-block alert-success\"/>\n",
    "\n",
    "> Business Insider Intelligence reported that researchers at the University of North Carolina Lineberger Comprehensive Cancer Center used IBM Watson's Genomic product to identify specific treatments for over 1,000 patients. The product performed big data analysis to determine treatment options for people with tumors who were showing genetic abnormalities.\n",
    "\n",
    "> Comparatively, Google's Cloud Healthcare application programming interface (API) includes CDS offerings and other AI solutions that help doctors make more informed clinical decisions regarding patients. AI used in Google Cloud takes data from users' electronic health records through machine learning creating insights for healthcare providers to make better clinical decisions.\n",
    "\n",
    "</div>\n",
    "\n",
    "\n",
    "### How is AI used in healthcare?\n",
    "AI is still a relatively new technology, especially in the healthcare industry where adoption remains in its infancy. As AI and machine learning tools become more sophisticated, their use cases have expanded; however, adoption of AI remains low, according to John Frownfelter, chief medical information officer at Jvion.\n",
    "\n",
    "\"We're still in the hype phase where many organizations are trying to understand how it fits into an overall strategy,\" said Frownfelter. \"Early AI was seen … with more of an emphasis on pattern recognition for billing processes. It has evolved to a much more sophisticated use of deep machine learning and leveraging the power of big data.\"\n",
    "\n",
    "Modern AI applications include wide-ranging use cases, from cybersecurity to radiographic imaging, Frownfelter said. As AI applications continue to improve, the entire healthcare industry could undergo a shift. Here are some of the major ways AI is expected to shape healthcare in the coming years.\n",
    "\n",
    "### Diagnostics\n",
    "AI excels at categorizing data, especially once it has been exposed to large amounts of data on the subject. That creates great promise for AI when it comes to diagnostics – medical imaging analysis and patient medical records, genetics, and more can all be combined to improve diagnostic outcomes. Moreover, AI tools can use similar information to craft unique treatment approaches and offer recommendations to doctors.\n",
    "\n",
    "`\"The really interesting developments are in the clinical arena,\" said Frownfelter. \"Clinical prescriptive analytics is probably the closest AI is getting to support direct patient care in 2019.\"`\n",
    "\n",
    "\n",
    "### Robot-assisted surgery\n",
    "\n",
    "Robotic surgeries allow surgeons to use smaller tools and make more precise incisions. Surgeons (and patients) could also benefit from AI by combining medical records with real-time data during operations, as well as drawing on data from previous successful surgeries of the same type. Accenture, a technology consulting firm, estimates that AI-enabled, robot-assisted surgery could save the U.S. healthcare industry $40 billion annually by 2026.\n",
    "\n",
    "<img src='hlt2.jpg'/>\n",
    "\n",
    "### Virtual nursing assistants\n",
    "Think of virtual nursing assistants like an Alexa for your hospital bedside. These virtual assistants replicate the typical behavior of a nurse by assisting patients with their daily routines, reminding them to take medications or go to appointments, helping answer medical questions and more. __Accenture estimates that virtual nursing assistants could be the second-largest source of annual savings for the U.S. healthcare industry, cutting as much as $20 billion in costs.__\n",
    "\n",
    "### Administrative workflow assistance\n",
    "Naturally, medical practices, hospitals and other points of care result in a great deal of paperwork. In fact, it was consolidating and digitizing these records that led to the industry-wide adoption of electronic health records systems. AI has already started to make its way into these systems and can be used to streamline administrative functions as well. Accenture estimates that new efficiencies in administrative workflow due to emerging AI technologies could result in $18 billion in annual savings.\n",
    "\n",
    "\n",
    "\n",
    "\n"
   ]
  },
  {
   "cell_type": "markdown",
   "metadata": {},
   "source": [
    "<div class=\"alert alert-block alert-success\"/>\n",
    "<img src='hlt11.gif'/>"
   ]
  },
  {
   "cell_type": "markdown",
   "metadata": {},
   "source": [
    "### Top 10 Applications of Machine Learning in Pharma and Medicine\n",
    "\n",
    "The increasingly growing number of applications of machine learning in healthcare allows us to glimpse at a future where data, analysis, and innovation work hand-in-hand to help countless patients without them ever realizing it. Soon, it will be quite common to find ML-based applications embedded with real-time patient data available from different healthcare systems in multiple countries, thereby increasing the efficacy of new treatment options which were unavailable before.\n",
    "\n",
    "Here are the top 10 applications of machine learning in healthcare -"
   ]
  },
  {
   "cell_type": "markdown",
   "metadata": {},
   "source": []
  },
  {
   "cell_type": "markdown",
   "metadata": {},
   "source": [
    "### Identifying Diseases and Diagnosis\n",
    "__One of the chief ML applications in healthcare is the identification and diagnosis of diseases and ailments which are otherwise considered hard-to-diagnose.__ This can include anything from cancers which are tough to catch during the initial stages, to other genetic diseases. \n",
    "\n",
    "IBM Watson Genomics is a prime example of how integrating cognitive computing with genome-based tumor sequencing can help in making a fast diagnosis. Berg, the biopharma giant is leveraging AI to develop therapeutic treatments in areas such as oncology. P1vital's PReDicT (Predicting Response to Depression Treatment) aims to develop a commercially feasible way to diagnose and provide treatment in routine clinical conditions.\n",
    "\n",
    "<img src='hlt1.jpg'/>"
   ]
  },
  {
   "cell_type": "markdown",
   "metadata": {},
   "source": [
    "<div class=\"alert alert-block alert-warning\"/>"
   ]
  },
  {
   "cell_type": "markdown",
   "metadata": {},
   "source": [
    "### Drug Discovery and Manufacturing\n",
    "One of the primary clinical applications of machine learning lies in early-stage drug discovery process. This also includes R&D technologies such as next-generation sequencing and precision medicine which can help in finding alternative paths for therapy of multifactorial diseases. \n",
    "\n",
    "Currently, the machine learning techniques involve unsupervised learning which can identify patterns in data without providing any predictions. Project Hanover developed by Microsoft is using ML-based technologies for multiple initiatives including developing AI-based technology for cancer treatment and personalizing drug combination for AML (Acute Myeloid Leukemia).\n",
    "\n",
    "<img src='hlt4.jpg'/>"
   ]
  },
  {
   "cell_type": "markdown",
   "metadata": {},
   "source": [
    "<div class=\"alert alert-info\"/>"
   ]
  },
  {
   "cell_type": "markdown",
   "metadata": {},
   "source": [
    "### Medical Imaging Diagnosis\n",
    "Machine learning and deep learning are both responsible for the breakthrough technology called Computer Vision. \n",
    "\n",
    "This has found acceptance in the InnerEye initiative developed by Microsoft which works on image diagnostic tools for image analysis. As machine learning becomes more accessible and as they grow in their explanatory capacity, expect to see more data sources from varied medical imagery become a part of this AI-driven diagnostic process."
   ]
  },
  {
   "cell_type": "code",
   "execution_count": 7,
   "metadata": {},
   "outputs": [
    {
     "data": {
      "text/html": [
       "\n",
       "        <iframe\n",
       "            width=\"750\"\n",
       "            height=\"400\"\n",
       "            src=\"https://github.com/atwine/lungcure\"\n",
       "            frameborder=\"0\"\n",
       "            allowfullscreen\n",
       "        ></iframe>\n",
       "        "
      ],
      "text/plain": [
       "<IPython.lib.display.IFrame at 0x107ffaba8>"
      ]
     },
     "execution_count": 7,
     "metadata": {},
     "output_type": "execute_result"
    }
   ],
   "source": [
    "from IPython.display import IFrame\n",
    "\n",
    "IFrame('https://github.com/atwine/lungcure', width=750, height=400)"
   ]
  },
  {
   "cell_type": "markdown",
   "metadata": {},
   "source": [
    "<div class=\"alert alert-info\"/>"
   ]
  },
  {
   "cell_type": "markdown",
   "metadata": {},
   "source": [
    "### Personalized Medicine\n",
    "\n",
    "Personalized treatments can not only be more effective by pairing individual health with predictive analytics but is also ripe are for further research and better disease assessment. \n",
    "\n",
    "Currently, physicians are limited to choosing from a specific set of diagnoses or estimate the risk to the patient based on his symptomatic history and available genetic information. But machine learning in medicine is making great strides, and IBM Watson Oncology is at the forefront of this movement by leveraging patient medical history to help generate multiple treatment options. \n",
    "\n",
    "In the coming years, we will see more devices and biosensors with sophisticated health measurement capabilities hit the market, allowing more data to become readily available for such cutting-edge ML-based healthcare technologies.\n",
    "\n"
   ]
  },
  {
   "cell_type": "markdown",
   "metadata": {},
   "source": [
    "<div class=\"alert alert-info\"/>\n",
    "<img src='hlt5.jpg'/>"
   ]
  },
  {
   "cell_type": "markdown",
   "metadata": {},
   "source": [
    "### Machine Learning-based Behavioral Modification\n",
    "Behavioral modification is an important part of preventive medicine, and ever since the proliferation of machine learning in healthcare, countless startups are cropping up in the fields of cancer prevention and identification, patient treatment, etc. \n",
    "\n",
    "Somatix is a B2B2C-based data analytics company which has released an ML-based app to recognize gestures which we make in our daily lives, allowing us to understand our unconscious behavior and make necessary changes."
   ]
  },
  {
   "cell_type": "markdown",
   "metadata": {},
   "source": [
    "<div class=\"alert alert-info\"/>\n",
    "<img src='hlt6.jpg'/>"
   ]
  },
  {
   "cell_type": "markdown",
   "metadata": {},
   "source": [
    "### Smart Health Records\n",
    "Maintaining up-to-date health records is an exhaustive process, and while technology has played its part in easing the data entry process, the truth is that even now, a majority of the processes take a lot of time to complete. \n",
    "\n",
    "The main role of machine learning in healthcare is to ease processes to save time, effort, and money. Document classification methods using vector machines and ML-based OCR recognition techniques are slowly gathering steam, such as Google's Cloud Vision API and MATLAB's machine learning-based handwriting recognition technology. \n",
    "\n",
    "MIT is today at the cutting edge of developing the next generation of intelligent, smart health records, which will incorporate ML-based tolls from the ground up to help with diagnosis, clinical treatment suggestions, etc."
   ]
  },
  {
   "cell_type": "markdown",
   "metadata": {},
   "source": [
    "<div class=\"alert alert-info\"/>\n",
    "<img src='hlt7.jpg'/>"
   ]
  },
  {
   "cell_type": "markdown",
   "metadata": {},
   "source": [
    "### Clinical Trial and Research\n",
    "Machine learning has several potential applications in the field of clinical trials and research. As anybody in the pharma industry would tell you, clinical trials cost a lot of time and money and can take years to complete in many cases. \n",
    "\n",
    "Applying ML-based predictive analytics to identify potential clinical trial candidates can help researchers draw a pool from a wide variety of data points, such as previous doctor visits, social media, etc. \n",
    "\n",
    "Machine learning has also found usage in ensuring real-time monitoring and data access of the trial participants, finding the best sample size to be tested, and leveraging the power of electronic records to reduce data-based errors."
   ]
  },
  {
   "cell_type": "markdown",
   "metadata": {},
   "source": [
    "<div class=\"alert alert-info\"/>"
   ]
  },
  {
   "cell_type": "markdown",
   "metadata": {},
   "source": [
    "### Crowdsourced Data Collection\n",
    "Crowdsourcing is all the rage in the medical field nowadays, allowing researchers and practitioners to access a vast amount of information uploaded by people based on their own consent. \n",
    "\n",
    "This live health data has great ramifications in the way medicine will be perceived down the line. \n",
    "\n",
    "> `Apple's ResearchKit allows users to access interactive apps which apply ML-based facial recognition to try and treat Asperger's and Parkinson's disease. `\n",
    "\n",
    "IBM recently partnered with Medtronic to decipher, accumulate, and make available diabetes and insulin data in real time based on the crowdsourced information. \n",
    "\n",
    "With the advancements being made in IoT, the healthcare industry is still discovering new ways in which to use this data and tackle tough-to-diagnose cases and help in the overall improvement of diagnosis and medication."
   ]
  },
  {
   "cell_type": "markdown",
   "metadata": {},
   "source": [
    "<div class=\"alert alert-info\"/>\n",
    "<img src='hlt10.jpg'/>"
   ]
  },
  {
   "cell_type": "markdown",
   "metadata": {},
   "source": [
    "### Better Radiotherapy\n",
    "One of the most sought-after applications of machine learning in healthcare is in the field of Radiology. Medical image analysis has many discrete variables which can arise at any particular moment of time. \n",
    "\n",
    "There are many lesions, cancer foci, etc. which cannot be simply modeled using complex equations. Since ML-based algorithms learn from the multitude of different samples available on-hand, it becomes easier to diagnose and find the variables. \n",
    "\n",
    "One of the most popular uses of machine learning in medical image analysis is the classification of objects such as lesions into categories such as normal or abnormal, lesion or non-lesion, etc. \n",
    "\n",
    "Google's DeepMind Health is actively helping researchers in UCLH develop algorithms which can detect the difference between healthy and cancerous tissue and improve radiation treatment for the same."
   ]
  },
  {
   "cell_type": "markdown",
   "metadata": {},
   "source": [
    "<div class=\"alert alert-info\"/>\n",
    "<img src='hlt8.jpg'/>"
   ]
  },
  {
   "cell_type": "markdown",
   "metadata": {},
   "source": [
    "### Outbreak Prediction\n",
    "AI-based technologies and machine learning are today also being put to use in monitoring and predicting epidemics around the world. \n",
    "\n",
    "Today, scientists have access to a large amount of data collected from satellites, real-time social media updates, website information, etc. Artificial neural networks help to collate this information and predict everything from malaria outbreaks to severe chronic infectious diseases. \n",
    "\n",
    "Predicting these outbreaks is especially helpful in third-world countries as they lack in crucial medical infrastructure and educational systems. A primary example of this is the ProMED-mail, an Internet-based reporting platform which monitors evolving diseases and emerging ones and provides outbreak reports in real-time.\n",
    "\n"
   ]
  },
  {
   "cell_type": "markdown",
   "metadata": {},
   "source": [
    "<div class=\"alert alert-info\"/>\n",
    "<img src='hlt9.jpg'/>"
   ]
  },
  {
   "cell_type": "markdown",
   "metadata": {},
   "source": []
  },
  {
   "cell_type": "markdown",
   "metadata": {},
   "source": [
    "<div class=\"alert alert-block alert-danger\"/>\n",
    "\n",
    "References:\n",
    "\n",
    "- https://www.pulselive.ug/bi/tech/ai-and-machine-learning-are-changing-our-approach-to-medicine-and-the-future-of/wmrf75y\n",
    "\n",
    "- https://builtin.com/artificial-intelligence/machine-learning-healthcare\n",
    "\n",
    "- https://www.businessnewsdaily.com/15096-artificial-intelligence-in-healthcare.html"
   ]
  },
  {
   "cell_type": "code",
   "execution_count": null,
   "metadata": {},
   "outputs": [],
   "source": []
  }
 ],
 "metadata": {
  "kernelspec": {
   "display_name": "Python 3",
   "language": "python",
   "name": "python3"
  },
  "language_info": {
   "codemirror_mode": {
    "name": "ipython",
    "version": 3
   },
   "file_extension": ".py",
   "mimetype": "text/x-python",
   "name": "python",
   "nbconvert_exporter": "python",
   "pygments_lexer": "ipython3",
   "version": "3.6.9"
  }
 },
 "nbformat": 4,
 "nbformat_minor": 2
}
