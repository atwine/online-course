{
 "cells": [
  {
   "cell_type": "markdown",
   "metadata": {},
   "source": [
    "# Where do I start\n",
    "by `Atwine Mugume Twinamatsiko`\n",
    "\n",
    "<img src='jupyter.webp'/>\n",
    "\n",
    "So you are now interested to get your hands dirty in code and rectifying errors?\n",
    "\n",
    "At the end of this lesson you will learn the following:\n",
    "\n",
    "- What you need to have to get started\n",
    "- What you need to know to get started\n",
    "\n",
    "## What you need to have to get started:-\n",
    "\n",
    "Assuming you have a computer already, we are going to look at some of the things you need to get started.\n",
    "\n",
    "- ### Python\n",
    "This is the background of most of the ML and AI code, most times python comes already installed on your machine. However one can install it themselves from their site.\n",
    "<img src='python.png'/>\n",
    "\n",
    "- ### An Environment:\n",
    " In order to start coding you need an environment where you will write your code. The environments differ depending on choice. I am going to list two different ones.\n",
    " \n",
    " #### Anaconda (Python & R)\n",
    " [Link](www.anacond.org) with this environment you are able to write both Python and R code for machine learning and deep learning.\n",
    " \n",
    " <img src='anaconda.png'/>\n",
    " \n",
    " After installing this software you will be able to access Jupyter Notebook local server so that you will be able to work with Jupyter\n",
    " \n",
    " #### R Studio\n",
    " You are able to launch R Studio from anaconda navigator (plus many other editors). With this environment you are able to work with R which is an alternative for python.\n",
    " \n",
    " <img src='rstudio.png'/>\n",
    " \n",
    " #### Anaconda Navigator\n",
    " \n",
    "  <img src='anaconda navigator.png'/>"
   ]
  },
  {
   "cell_type": "markdown",
   "metadata": {},
   "source": [
    "<div class=\"alert alert-block alert-success\"/>"
   ]
  },
  {
   "cell_type": "markdown",
   "metadata": {},
   "source": [
    "## What you need to know to get started\n",
    "\n",
    "In brief we have looked at what you need to have in order to get started with your new career step in Machine Learning and Artificial Intelligence\n",
    "\n",
    "### Career\n",
    "Let us first look at the kind of careers that are available with all this knowledge.\n",
    "<img src='career.png'/>"
   ]
  },
  {
   "cell_type": "markdown",
   "metadata": {},
   "source": [
    "<div class=\"alert alert-block alert-success\"/>"
   ]
  },
  {
   "cell_type": "markdown",
   "metadata": {},
   "source": [
    "### Skills\n",
    "\n",
    "As you can see above there are some skills you need to have in order to function in this career properly:-\n",
    "\n",
    ">1 - __Programming:__ the kind of programming needed is not as intense as that of developers however one has to be able to learn the syntax of their chosen languages and the logic that it entails.\n",
    "The Languages needed include:\n",
    "- Python, R, SQL, HTML\n",
    "\n",
    ">2 - __Statistics:__ you definately don't need to become a statician, however you need to know your way around statistical methods. Simple descriptive stats, inferential stats, hypothesis testing and others.\n",
    "\n",
    ">3 - __Linear Algebra:__ This is a necesarry skill if you are going to understand what you are doing. Most of the models are built in order to maximize or minimize certain linear and non linear functions. The math becomes intense the higher you get. This includes logic and formal methods.\n",
    "\n",
    ">4 - __Data Visualization:__ Being able to tell a compelling story with data is crucial to getting your point across and keeping your audience engaged. If your findings can’t be easily and quickly identified, then you’re going to have a difficult time getting through to others. \n",
    "\n",
    ">5 - __Critical Thinking:__ being able to look at your current task from various angles and geting valuable insight in what the information is telling us."
   ]
  },
  {
   "cell_type": "markdown",
   "metadata": {},
   "source": [
    "<div class=\"alert alert-block alert-success\"/>"
   ]
  },
  {
   "cell_type": "markdown",
   "metadata": {},
   "source": [
    "## Comparison Table\n",
    "\n",
    "<table class=\"table table-striped table-dark\">\n",
    "    \n",
    "  <thead>\n",
    "    <tr>\n",
    "      <th scope=\"col\">Data Science</th>\n",
    "      <th scope=\"col\">Data Analytics</th>\n",
    "    </tr>\n",
    "  </thead>\n",
    "    \n",
    "  <tbody>\n",
    "    <tr>\n",
    "      <td scope=\"row\">Data Science is the whole multidisciplinary field that includes domain expertise, machine learning, statistical research, data analytics, mathematics, and computer science.</td>\n",
    "      <td>It is a significant part of data science where data is organized, processed and analyzed to solve business problems.</td>\n",
    "    </tr>\n",
    "    <tr>\n",
    "      <td scope=\"row\">The scope of data science is said to be macro.</td>\n",
    "      <td>The scope of data analytics is micro.</td>\n",
    "    </tr>\n",
    "    <tr>\n",
    "      <td scope=\"row\">Requires knowledge of data modeling, advanced statistics, machine learning and basic knowledge of programming languages like SQL, Python/R, SAS.</td>\n",
    "      <td>Requires solid knowledge of database like SQL, programming skills like Python/R, Hadoop/Spark. Also requires knowledge of BI tools and medium level understanding of statistics.</td>\n",
    "    </tr>\n",
    "    <tr>\n",
    "      <td scope=\"row\">The input is raw or unstructured data which is then cleaned and organized to be sent for analytics.</td>\n",
    "      <td>The input is mostly structured data on which design principles and data visualization techniques are applied.</td>\n",
    "    </tr>\n",
    "    <tr>\n",
    "      <td scope=\"row\">Involves search engine exploration, artificial intelligence, and machine learning.</td>\n",
    "      <td>The scope is limited to analytical techniques mostly using statistical tools and techniques.</td>\n",
    "    </tr>\n",
    "    <tr>\n",
    "      <td scope=\"row\">The aim of data science is to find and define new business problems that lead to innovation.</td>\n",
    "      <td>The problem is already known and with analytics, the analyst tries to find the best solutions to the problem.</td>\n",
    "    </tr>\n",
    "    <tr>\n",
    "      <td scope=\"row\">Used for recommender systems, internet research, image recognition, speech recognition, and digital marketing.</td>\n",
    "      <td>Used in domain areas like healthcare, travel and tourism, gaming, finance and so on.</td>\n",
    "    </tr>\n",
    "    <tr>\n",
    "      <td scope=\"row\">Involves finding solutions to new and unknown problems by discovering them and converting data into business stories and use cases.</td>\n",
    "      <td>The data only goes through thorough analysis and interpretation, however, there is no roadmap created.</td>\n",
    "    </tr>\n",
    "  </tbody>\n",
    "</table>"
   ]
  },
  {
   "cell_type": "markdown",
   "metadata": {},
   "source": []
  }
 ],
 "metadata": {
  "kernelspec": {
   "display_name": "Python 3",
   "language": "python",
   "name": "python3"
  },
  "language_info": {
   "codemirror_mode": {
    "name": "ipython",
    "version": 3
   },
   "file_extension": ".py",
   "mimetype": "text/x-python",
   "name": "python",
   "nbconvert_exporter": "python",
   "pygments_lexer": "ipython3",
   "version": "3.6.9"
  }
 },
 "nbformat": 4,
 "nbformat_minor": 2
}
