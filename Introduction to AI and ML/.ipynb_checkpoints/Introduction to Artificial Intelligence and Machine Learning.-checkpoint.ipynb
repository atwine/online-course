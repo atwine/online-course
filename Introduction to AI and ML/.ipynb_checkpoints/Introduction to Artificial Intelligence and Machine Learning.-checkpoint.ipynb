{
 "cells": [
  {
   "cell_type": "markdown",
   "metadata": {},
   "source": [
    "# Introduction to Artificial Intelligence and Machine Learning\n",
    "\n",
    "By `Atwine Mugume Twinamatsiko`\n",
    "\n",
    "### What is Artificial Intelligence?\n",
    "\n",
    "I think this maybe the biggest question for all of you who are taking this course: `what exactly is this thing Artificial Intelligence`?\n",
    "\n",
    "To make things easy to follow in this short video presentation I introduce the concept Artificial Intelligence in the simplest way to understand and then talk later about machine learning.\n",
    "\n",
    "<img src= 'intro12.jpeg'/>"
   ]
  },
  {
   "cell_type": "markdown",
   "metadata": {},
   "source": [
    "## What you will learn today\n",
    " - What is Intelligence?\n",
    " - How to piece Artificial + Intelligence to get the definition of this concept\n",
    " - What is the turing test and how its related to AI\n",
    " \n",
    " "
   ]
  },
  {
   "cell_type": "markdown",
   "metadata": {},
   "source": [
    "<img src=\"intro1.png\"/>"
   ]
  },
  {
   "cell_type": "markdown",
   "metadata": {},
   "source": [
    "<div class=\"alert alert-block alert-info\">\n",
    "    <h2>What is Intelligence?</h2>\n",
    "    <p>Definition of intelligence from mariam Webster Dictionary\n",
    "<p>(1): The ability to learn or understand or to deal with new or trying situations : \n",
    "\n",
    "<p>(2): The ability to apply knowledge to manipulate one's environment or to think abstractly as measured by objective criteria (such as tests)</p>\n",
    "\n",
    "</div>"
   ]
  },
  {
   "cell_type": "markdown",
   "metadata": {},
   "source": [
    "<img src=\"intro2.png\"/>"
   ]
  },
  {
   "cell_type": "markdown",
   "metadata": {},
   "source": [
    "<div class=\"alert alert-block alert-success\">\n",
    "    By now you should have probably figured out since defining the word artificial is not hard at all.\n",
    "    <p> Artificial means not natural but caused by humans.\n",
    "    So in short the discipline of artificial Intelligence deals with equipping machines with the ability to do things that humans can do but also accomplish those that humans are not able to do.\n",
    "    </p>\n",
    "</div>"
   ]
  },
  {
   "cell_type": "markdown",
   "metadata": {},
   "source": [
    "<img src=\"intro3.png\"/>"
   ]
  },
  {
   "cell_type": "markdown",
   "metadata": {},
   "source": [
    "## Acting Humanly (The Turing Test)\n",
    "\n",
    "### The Turing Test:\n",
    "\n",
    "<p>\n",
    "During the test, one of the humans functions as the questioner, while the second human and the computer function as respondents. The questioner interrogates the respondents within a specific subject area, using a specified format and context. After a preset length of time or number of questions, the questioner is then asked to decide which respondent was human and which was a computer.\n",
    "\n",
    "The test is repeated many times. If the questioner makes the correct determination in half of the test runs or less, the computer is considered to have artificial intelligence because the questioner regards it as \"just as human\" as the human respondent.\n",
    "</p>\n",
    "\n",
    "<img src ='intro4.jpg'>"
   ]
  },
  {
   "cell_type": "markdown",
   "metadata": {},
   "source": [
    "<div class=\"alert alert-block alert-warning\">\n",
    "    \n",
    "</div>"
   ]
  },
  {
   "cell_type": "markdown",
   "metadata": {},
   "source": [
    "<img src ='intro5.png'>\n",
    "\n",
    "### Turing Test on AI Systems\n",
    "\n",
    "`Eugene Goostman`, which simulates a 13-year-old Ukrainian boy, is said to have passed the test in June 2014. While Eugene may have fooled quite a few people, there are actually a few red flags that prove it didn’t pass. One in particular is that people were told the computer was a 13-year-old Ukrainian boy to excuse all of the odd answers it may have given. Secondly, the test judges were hand picked by those who created Eugene. This doesn’t add much credibility does it?\n",
    "\n",
    "`Cleverbot’s` developers also claimed it passed the Turing test back in 2011. But, if you’ve ever had a chat with Cleverbot then you would know the chatbot really isn’t as bright as its developers think it is. Don’t believe us? Strike up a conversation here.\n",
    "\n",
    "\n",
    "## Necessities for an AI to pass Turings Test\n",
    "\n",
    "In order for an AI to be able to pass the test there are some requirements it has to pass in ordr to pass off as a human or fool a human for that matter and these are stated and explained below:\n",
    "\n",
    "### Natural Language Processing\n",
    "\n",
    "The AI needs to be able to interface with humans in a language that Humans can understand well -- the field puts more emphasis on the ability of the computer to understand human. This deals in learning to hear, speak, read and write human languages\n",
    "\n",
    ">Short for `natural language processing`, NLP is a branch of artificial intelligence that deals with analyzing, understanding and generating the languages that humans use naturally in order to interface with computers in both written and spoken contexts using natural human languages instead of computer languages.\n",
    "\n",
    "<img src='intro6.jpg'/>\n",
    "\n",
    "### Knowledge Representation\n",
    "\n",
    "`What is knowledge representation?`\n",
    "\n",
    "Humans are best at understanding, reasoning, and interpreting knowledge. Human knows things, which is knowledge and as per their knowledge they perform various actions in the real world. But how machines do all these things comes under knowledge representation and reasoning. Hence we can describe Knowledge representation as following:\n",
    "\n",
    "- Knowledge representation and reasoning (KR, KRR) is the part of Artificial intelligence which concerned with AI agents thinking and how thinking contributes to intelligent behavior of agents.\n",
    "\n",
    "- It is responsible for representing information about the real world so that a computer can understand and can utilize this knowledge to solve the complex real world problems such as diagnosis a medical condition or communicating with humans in natural language.\n",
    "\n",
    "- It is also a way which describes how we can represent knowledge in artificial intelligence. Knowledge representation is not just storing data into some database, but it also enables an intelligent machine to learn from that knowledge and experiences so that it can behave intelligently like a human.\n",
    "\n",
    "What to Represent:\n",
    "Following are the kind of knowledge which needs to be represented in AI systems:\n",
    "\n",
    "- Object: All the facts about objects in our world domain. E.g., Guitars contains strings, trumpets are brass instruments.\n",
    "\n",
    "- Events: Events are the actions which occur in our world.\n",
    "\n",
    "- Performance: It describe behavior which involves knowledge about how to do things.\n",
    "\n",
    "- Meta-knowledge: It is knowledge about what we know.\n",
    "\n",
    "- Facts: Facts are the truths about the real world and what we represent.\n",
    "\n",
    "- Knowledge-Base: The central component of the knowledge-based agents is the knowledge base. It is represented as KB. The Knowledgebase is a group of the Sentences (Here, sentences are used as a technical term and not identical with the English language).\n",
    "\n",
    "- Knowledge: Knowledge is awareness or familiarity gained by experiences of facts, data, and situations. Following are the types of knowledge in artificial intelligence:\n",
    "\n",
    "#### Types of Knowledge\n",
    "<img src='intro7.png'/>"
   ]
  },
  {
   "cell_type": "markdown",
   "metadata": {},
   "source": [
    "<div class=\"alert alert-block alert-warning\">\n",
    "    \n",
    "</div>"
   ]
  },
  {
   "cell_type": "markdown",
   "metadata": {},
   "source": [
    "### Automated Reasoning\n",
    "\n",
    "Automated reasoning is an area of cognitive science (involves knowledge representation and reasoning) and metalogic dedicated to understanding different aspects of reasoning. The study of automated reasoning helps produce computer programs that allow computers to reason completely, or nearly completely, automatically. \n",
    "\n",
    "Although automated reasoning is considered a sub-field of artificial intelligence, it also has connections with theoretical computer science, and even philosophy.\n",
    "\n",
    "<img src='intro9.png'/>"
   ]
  },
  {
   "cell_type": "markdown",
   "metadata": {},
   "source": [
    "### Machine Learning\n",
    "<img src='intro10.jpg'/>\n",
    "\n",
    "Machine learning is an application of artificial intelligence (AI) that provides systems the ability to automatically learn and improve from experience without being explicitly programmed. Machine learning focuses on the development of computer programs that can access data and use it learn for themselves.\n",
    "\n",
    "The process of learning begins with observations or data, such as examples, direct experience, or instruction, in order to look for patterns in data and make better decisions in the future based on the examples that we provide. The primary aim is to allow the computers learn automatically without human intervention or assistance and adjust actions accordingly.\n",
    "\n",
    "#### Some machine learning methods\n",
    "\n",
    "Machine learning algorithms are often categorized as supervised or unsupervised.\n",
    "\n",
    "`Supervised machine learning` algorithms can apply what has been learned in the past to new data using labeled examples to predict future events. \n",
    "\n",
    "In contrast, `unsupervised machine learning` algorithms are used when the information used to train is neither classified nor labeled. Unsupervised learning studies how systems can infer a function to describe a hidden structure from unlabeled data. \n",
    "\n",
    "\n",
    "`Reinforcement machine learning algorithms` is a learning method that interacts with its environment by producing actions and discovers errors or rewards. Trial and error search and delayed reward are the most relevant characteristics of reinforcement learning. This method allows machines and software agents to automatically determine the ideal behavior within a specific context in order to maximize its performance. Simple reward feedback is required for the agent to learn which action is best; this is known as the reinforcement signal.\n"
   ]
  },
  {
   "cell_type": "markdown",
   "metadata": {},
   "source": [
    "<div class=\"alert alert-block alert-warning\">\n",
    "    \n",
    "</div>"
   ]
  },
  {
   "cell_type": "markdown",
   "metadata": {},
   "source": [
    "### Computer Vision\n",
    "\n",
    "\n",
    "According to `Prof. Fei-Fei Li`, computer vision is defined as “a subset of mainstream artificial intelligence that deals with the science of making computers or machines visually enabled, i.e., they can analyze and understand an image.” \n",
    "\n",
    "In short this part of artificial intelligence helps computers ability to see as humans do.\n",
    "\n",
    "This doesn't stop at images but also video classification\n",
    "\n",
    "`Computer Vision Applications`\n",
    "There are many computer vision applications out in the market. Below are just a few:\n",
    "\n",
    "- Automatic inspection (image-based automated inspection), e.g., in manufacturing applications\n",
    "\n",
    "- Assisting humans in identification tasks (to identify object/species using their properties), e.g., a species identification system\n",
    "\n",
    "- Controlling processes (in a way of monitoring robots), e.g., an industrial robot\n",
    "\n",
    "- Detecting events, e.g., for visual surveillance or people counting\n",
    "\n",
    "- Modeling objects or environments (using drones can analyses about climatic factors that leads to change in vegetation, etc.), e.g., medical image analysis or topographical modeling\n",
    "\n",
    "- Navigation, e.g., by an autonomous vehicle or mobile robot\n",
    "\n",
    "- Organizing information, e.g., for indexing databases of images and image sequences\n",
    "\n",
    "\n",
    "<img src='intro11.jpg'/>"
   ]
  },
  {
   "cell_type": "markdown",
   "metadata": {},
   "source": [
    "<div class=\"alert alert-block alert-danger\">\n",
    "   End!\n",
    "</div>"
   ]
  },
  {
   "cell_type": "code",
   "execution_count": null,
   "metadata": {},
   "outputs": [],
   "source": []
  }
 ],
 "metadata": {
  "kernelspec": {
   "display_name": "Python 3",
   "language": "python",
   "name": "python3"
  },
  "language_info": {
   "codemirror_mode": {
    "name": "ipython",
    "version": 3
   },
   "file_extension": ".py",
   "mimetype": "text/x-python",
   "name": "python",
   "nbconvert_exporter": "python",
   "pygments_lexer": "ipython3",
   "version": "3.6.9"
  }
 },
 "nbformat": 4,
 "nbformat_minor": 2
}
