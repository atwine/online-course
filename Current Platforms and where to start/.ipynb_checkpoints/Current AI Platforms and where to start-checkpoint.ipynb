{
 "cells": [
  {
   "cell_type": "markdown",
   "metadata": {},
   "source": [
    "# What are some of the platforms to use for Artificial Intelligence and Machine Learning?\n",
    "\n",
    "by `Atwine Mugume Twinamatsiko`\n",
    "\n",
    "<img src= 'plt.jpg'/>\n",
    "\n",
    "Now that you have some information on what this entails it is time to get our hands dirty.\n",
    "\n",
    "#### Normally in order to practice you need to have a powerful computer:\n",
    "\n",
    "- Five (5) cores Plus.\n",
    "- 4Gb of RAM Plus.\n",
    "- 500 plus of HDD Space.\n",
    "\n",
    "These specifications can help you get started and work on some projects in Machine learning. However if you are handling algorithms that are data hungry like neural networks you will need some help in dealing with processing power.\n",
    "\n",
    "#### You will need:\n",
    "\n",
    "- GPU - Graphical Processing Units.\n",
    "- TPU - Tensor Processing Units.\n",
    "\n",
    "Now these are quite expensive to buy on the market for everyone.\n",
    "\n",
    "#### At the end of this tutorial you will learn the following:\n",
    "\n",
    "- Learning Platforms for Machine Learning and AI\n",
    "- Practicing Platforms\n",
    "- Editors for your code"
   ]
  },
  {
   "cell_type": "markdown",
   "metadata": {},
   "source": [
    "<div class=\"alert alert-block alert-success\"/>"
   ]
  },
  {
   "cell_type": "markdown",
   "metadata": {},
   "source": [
    "# Learning Platforms:\n",
    "\n",
    "I will highlight some of the platforms that you can use to get started on learning how to work through AI and Machine Learning immediately.\n",
    "\n",
    "- ### [Edx.org](https://www.edx.org/)\n",
    "\n",
    "<img src ='edx.png'/>\n",
    "\n",
    "__This platform is one of those you can work with to get started -- they offer a multitude of courses through which you can get started.__\n",
    "\n",
    "You are able to do the materials free if you don't have money and then later pay for a certificate when you have the money.\n",
    "\n",
    "Courses range from: `Proffesional DevOps to Masters online.`\n",
    "\n",
    "The choice is really up to one, and the Universitites offering are credible universities\n"
   ]
  },
  {
   "cell_type": "markdown",
   "metadata": {},
   "source": [
    "<div class=\"alert alert-block alert-success\"/>"
   ]
  },
  {
   "cell_type": "markdown",
   "metadata": {},
   "source": [
    "- ### [Data Camp](https://www.datacamp.com/)\n",
    "\n",
    "<img src = 'datacamp.png'/>"
   ]
  },
  {
   "cell_type": "markdown",
   "metadata": {},
   "source": [
    "<div class=\"alert alert-block alert-success\"/>"
   ]
  },
  {
   "cell_type": "markdown",
   "metadata": {},
   "source": [
    "- ### [Coursera](https://www.datacamp.com/)\n",
    "<img src='coursera.png'/>"
   ]
  },
  {
   "cell_type": "markdown",
   "metadata": {},
   "source": [
    "<div class=\"alert alert-block alert-warning\"/>"
   ]
  },
  {
   "cell_type": "markdown",
   "metadata": {},
   "source": [
    "- ### [Analytics Vidya](https://www.analyticsvidhya.com/)\n",
    "<img src='vidya.png'/>"
   ]
  },
  {
   "cell_type": "markdown",
   "metadata": {},
   "source": [
    "<div class=\"alert alert-info\"/></div>"
   ]
  },
  {
   "cell_type": "markdown",
   "metadata": {},
   "source": [
    "# Practicing Platforms:\n",
    "\n",
    "These are platforms that you can access GPUs for free:\n",
    "\n",
    "\n",
    "- ### [Kaggle](kaggle.com)\n",
    "\n",
    "<img src='kaggle.png'/>"
   ]
  },
  {
   "cell_type": "markdown",
   "metadata": {},
   "source": [
    "<div class=\"alert alert-info\"/></div>"
   ]
  },
  {
   "cell_type": "markdown",
   "metadata": {},
   "source": [
    "- ### [Zindi](www.zindi.africa)\n",
    "\n",
    "<img src='zindi.png'/>"
   ]
  },
  {
   "cell_type": "markdown",
   "metadata": {},
   "source": [
    "<div class=\"alert alert-info\"/></div>"
   ]
  },
  {
   "cell_type": "markdown",
   "metadata": {},
   "source": [
    "- ### [Google Colab](colab.research.google.com)\n",
    "\n",
    "Here you can get:(free)\n",
    "- GPU\n",
    "- TPU\n",
    "\n",
    "<img src='colab.png'/>"
   ]
  },
  {
   "cell_type": "markdown",
   "metadata": {},
   "source": [
    "<div class=\"alert alert-info\"/></div>"
   ]
  },
  {
   "cell_type": "markdown",
   "metadata": {},
   "source": [
    "- ### [Git Hub](www.github.com)\n",
    "\n",
    "This is a platform you can use to see what people have worked on.\n",
    "\n",
    "You are able to fork what people have done and use it on your laptop or machine to practice the use of some techniques and other things.\n",
    "\n",
    "<img src='github.png'/>"
   ]
  },
  {
   "cell_type": "markdown",
   "metadata": {},
   "source": [
    "<div class=\"alert alert-info\"/></div>"
   ]
  },
  {
   "cell_type": "markdown",
   "metadata": {},
   "source": [
    "<div class=\"alert alert-block alert-danger\"/>\n",
    "\n",
    "## End!"
   ]
  }
 ],
 "metadata": {
  "kernelspec": {
   "display_name": "Python 3",
   "language": "python",
   "name": "python3"
  },
  "language_info": {
   "codemirror_mode": {
    "name": "ipython",
    "version": 3
   },
   "file_extension": ".py",
   "mimetype": "text/x-python",
   "name": "python",
   "nbconvert_exporter": "python",
   "pygments_lexer": "ipython3",
   "version": "3.6.9"
  }
 },
 "nbformat": 4,
 "nbformat_minor": 2
}
