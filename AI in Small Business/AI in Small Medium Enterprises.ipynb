{
 "cells": [
  {
   "cell_type": "markdown",
   "metadata": {},
   "source": [
    "# Artificial Intelligence & Machine Learning in SMEs\n",
    "\n",
    "by `Atwine Mugume Twinamatsiko`\n",
    "\n",
    "### What are the impacts of AI and Machine learning in Small Enterprises today?\n",
    "\n",
    "In this tutorial we are going to look at some of the application that may be very useful to your business.\n",
    "\n",
    "We shall look at the information in brief for this free content. For more intense core material we have our paid courses that you can pay and learn from.\n",
    "\n",
    "<img src='sme1.gif'/>"
   ]
  },
  {
   "cell_type": "code",
   "execution_count": null,
   "metadata": {},
   "outputs": [],
   "source": []
  }
 ],
 "metadata": {
  "kernelspec": {
   "display_name": "Python 3",
   "language": "python",
   "name": "python3"
  },
  "language_info": {
   "codemirror_mode": {
    "name": "ipython",
    "version": 3
   },
   "file_extension": ".py",
   "mimetype": "text/x-python",
   "name": "python",
   "nbconvert_exporter": "python",
   "pygments_lexer": "ipython3",
   "version": "3.6.9"
  }
 },
 "nbformat": 4,
 "nbformat_minor": 2
}
