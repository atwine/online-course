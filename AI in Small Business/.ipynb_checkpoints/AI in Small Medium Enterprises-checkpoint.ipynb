{
 "cells": [
  {
   "cell_type": "markdown",
   "metadata": {},
   "source": [
    "# Artificial Intelligence & Machine Learning in SMEs\n",
    "\n",
    "by `Atwine Mugume Twinamatsiko`\n",
    "\n",
    "### What are the impacts of AI and Machine learning in Small Enterprises today?\n",
    "\n",
    "In this tutorial we are going to look at some of the application that may be very useful to your business.\n",
    "\n",
    "We shall look at the information in brief for this free content. For more intense core material we have our paid courses that you can pay and learn from.\n",
    "\n",
    "<img src='sme1.gif'/>"
   ]
  },
  {
   "cell_type": "markdown",
   "metadata": {},
   "source": [
    "<div class=\"alert alert-block alert-success\"/>\n",
    " \n",
    "### Problems that can be solved by AI and ML\n",
    "\n",
    "In this section we are going to look at some of the problems that machine Learning and AI can help you as a small business solve.</div>\n",
    "\n",
    "\n",
    "### Automate Your Marketing Techniques to Improve the Sales\n",
    "\n",
    "<img src= 'sme2.jpg'/>\n",
    "\n",
    "As a small business, your number one priority is get customers. Its obvious that if you are going to succeed in the long run you need a daily addition to your customer base.\n",
    "\n",
    "AI and ML can be used in this area: you can be able to do things like learning patterns of your clientele, getting look alike clients that possess the same behaviors in order to manage your client base.\n",
    "\n",
    "You can also automate followup and interaction with your clientelle through deep learning methods.\n",
    "\n",
    "> `These days, digital marketing is the most imperative aspect of your online business. It is very significant for businesses to use various marketing techniques to get better prospects and convert them to loyal customers. Incorporating the AI into this marketing will help the organization in many ways. The AI-based applications can handle the routine tasks and they can customize the sales and marketing information depending upon the consumers.` The machine learning can also help in optimizing the price of various markets. A data science platform, Rapid Miner leverages the data about different competitors, consumer preferences, suppliers, and risks to create the pricing models for the individual market segments automatically. This AI-based approach will help the businesses to optimize the marginal profits\n",
    "\n",
    "\n",
    "\n",
    "###  AI Based Analytics for Better Business Decisions\n",
    "<img src= 'sme3.png'/>\n",
    "\n",
    "It is very crucial that we learn that `Data` is the new gold. Why so?\n",
    "\n",
    "`When you finally find a way to collect, organize and analyze data in a way that you get  certain insight towards optimizing a certain variable, there is no telling when if done properly the extent of growth`\n",
    "\n",
    "The data that you collect is very valuable in making decisions, through the current technological systems already deployed one can have a look at their data, learn trends and make decisions that greatly impact their success.\n",
    "\n"
   ]
  },
  {
   "cell_type": "markdown",
   "metadata": {},
   "source": [
    "<div class=\"alert alert-block alert-warning\"/>"
   ]
  },
  {
   "cell_type": "markdown",
   "metadata": {},
   "source": [
    "### Saving Time\n",
    "<img src='sme4.jpeg'/>\n",
    "\n",
    "\n",
    "No matter what type of business you are in, the time plays a prominent role there. In the business world **`“Time is Money”`** and one cannot simply waste their time with simple yet time consuming tasks like data analytics.\n",
    "\n",
    "**Analyzing the data with human intelligence will take a lot of time and this is the reason why people prefer to use the help of artificial intelligence.** The artificial intelligence will help in the entire process and it will save a lot of time too. The situation is similar with chat bots too. __One cannot spend their entire time before a computer waiting for the questions to pop from the customers. The artificial intelligence will reduce human efforts and saves their time in this industry too.__\n",
    "\n",
    "\n",
    "### Advanced Hiring Processes\n",
    "<img src='sme5.jpg'/>\n",
    "\n",
    "If you are a company you know that the process of hiring can really take a long time. Its evident that now people can easily send in their cvs while amidist many other tasks.\n",
    "\n",
    "As a result the multitude of information gathered in order to hire good resource is difficult to look through easily. Advanced hiring processes can be a great fix for small businesses to be able to learn who to bring on board in their early stages.\n",
    "\n",
    "> __It is one of the common issues in any of the organization. Searching and hiring the right candidate isn’t something that can be just done. It takes a lot of cumbersome procedures to work. But with the latest AI based facial recognition applications, the interviewing and hiring process has become easy. This technology will evaluate the performance of an employee by their emotional cues which will help businesses to streamline their processes.__\n",
    "\n",
    "\n",
    "### AI helps in Fighting Frauds and Preventing Crimes\n",
    "<img src='sme6.jpg'/>\n",
    "\n",
    "This can be applicable online and offline: online ML can be used to cluster and learn how people behave -- this can be used to quickly detect out of normal behaviors through algorithms like Kmeans clustering.\n",
    "\n",
    "Offline: methods like cameras have been around -- what makes it more interesting is the fact that now through collecting variable information like how long workers take in tills and handling money you can predict thefts and accountability issues.\n",
    "\n",
    "`The businesses spend a lot of time on detecting the fraudulent transactions, but it is like a never-ending process for the businesses. Usually, the frauds and crimes can be detected depending upon the pattern recognition. The machine learning tools can take care of this pattern recognition. Like this the cyber threats are also dependent on recognizing the pattern anomalies and AI-based applications will help in this area too.`"
   ]
  },
  {
   "cell_type": "markdown",
   "metadata": {},
   "source": [
    "<div class=\"alert alert-block alert-warning\"/>"
   ]
  },
  {
   "cell_type": "markdown",
   "metadata": {},
   "source": [
    "\n",
    "### AI integrated customer support solutions\n",
    "\n",
    "<img src='sme7.jpg'/>\n",
    "\n",
    "Automated chat systems permit small businesses to scale their customer service efforts and free up resources needed for more difficult customer interactions.\n",
    "\n",
    "AI customer service solutions like DigitalGenius or ChattyPeople suggest or automate answers to incoming customer questions, classify help tickets and direct inquiries or messages to the appropriate department.\n",
    "\n",
    "When you use AI in customer support, a big reduction in average handling time is seen. Moreover, it enhances the overall responsiveness of your customer service team.\n",
    "\n",
    "Most customer interactions, such as emails, online chat, social media conversations and telephone calls, currently require human involvement. AI, however, is enabling companies to automate these communications. By analysing data collected from previous communications it is possible to program computers to respond accurately to customers and deal with their enquiries. What’s more, when AI is combined with machine learning, the more the AI platforms interact, the better they become.\n",
    "\n",
    "One example of this is AI Chatbots which, unlike humans, can interact with unlimited customers at the same time and can both respond and initiate communication – whether on a website or an app.\n",
    "\n",
    "\n",
    "### Product Recommendation\n",
    "\n",
    "<img src='sme7.png'/>\n",
    "\n",
    "Unsupervised learning enables a product based recommendation system. Given a purchase history for a customer and a large inventory of products, ML models can identify those products in which that customer will be interested and likely to purchase. \n",
    "\n",
    "The algorithm identifies hidden pattern among items and focuses on grouping similar products into clusters. A model of this decision process would allow a program to make recommendations to a customer and motivate product purchases. \n",
    "\n",
    "E-Commerce businesses such as Amazon has this capability. Unsupervised learning along with location detail is used by Facebook to recommend users to connect with others users."
   ]
  },
  {
   "cell_type": "markdown",
   "metadata": {},
   "source": [
    "<div class=\"alert alert-info\"/>\n",
    "\n",
    "I presume its now evident that the integration of these methods into our daily work is imperative if we are going to not only maximize profits but also reduce redundancy and wastage of resources.\n"
   ]
  },
  {
   "cell_type": "markdown",
   "metadata": {},
   "source": [
    "<div class=\"alert alert-block alert-danger\"/>\n",
    "\n",
    "References:\n",
    "\n",
    "- https://technostacks.com/blog/benefits-of-artificial-intelligence-in-business/\n",
    "\n",
    "- https://firebrandtalent.com/blog/2017/05/ai-disrupting-enhancing-marketing/\n",
    "\n",
    "- https://marutitech.com/problems-solved-machine-learning/\n",
    "\n",
    "- https://www.eukhost.com/blog/webhosting/7-benefits-of-artificial-intelligence-for-business/\n",
    "\n",
    "- https://www.forbes.com/sites/lilachbullock/2019/02/25/the-top-6-ways-that-artificial-intelligence-will-affect-your-business-in-the-near-future/#32dbb0421966\n",
    "\n"
   ]
  }
 ],
 "metadata": {
  "kernelspec": {
   "display_name": "Python 3",
   "language": "python",
   "name": "python3"
  },
  "language_info": {
   "codemirror_mode": {
    "name": "ipython",
    "version": 3
   },
   "file_extension": ".py",
   "mimetype": "text/x-python",
   "name": "python",
   "nbconvert_exporter": "python",
   "pygments_lexer": "ipython3",
   "version": "3.6.9"
  }
 },
 "nbformat": 4,
 "nbformat_minor": 2
}
